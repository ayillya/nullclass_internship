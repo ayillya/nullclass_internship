{
 "cells": [
  {
   "cell_type": "markdown",
   "metadata": {},
   "source": [
    "# Summarizer Model Training\n",
    "This notebook trains a TF-IDF based extractive text summarization model."
   ]
  },
  {
   "cell_type": "code",
   "execution_count": 1,
   "metadata": {},
   "outputs": [
    {
     "name": "stderr",
     "output_type": "stream",
     "text": [
      "[nltk_data] Downloading package punkt to\n",
      "[nltk_data]     C:\\Users\\hp\\AppData\\Roaming\\nltk_data...\n",
      "[nltk_data]   Package punkt is already up-to-date!\n"
     ]
    },
    {
     "data": {
      "text/plain": [
       "True"
      ]
     },
     "execution_count": 1,
     "metadata": {},
     "output_type": "execute_result"
    }
   ],
   "source": [
    "import nltk\n",
    "import numpy as np\n",
    "import pandas as pd\n",
    "import pickle\n",
    "from nltk.tokenize import sent_tokenize\n",
    "from sklearn.feature_extraction.text import TfidfVectorizer\n",
    "\n",
    "# Download NLTK resources\n",
    "nltk.download('punkt')"
   ]
  },
  {
   "cell_type": "code",
   "execution_count": 2,
   "metadata": {},
   "outputs": [
    {
     "name": "stdout",
     "output_type": "stream",
     "text": [
      "Sentences: ['Artificial Intelligence (AI) is intelligence demonstrated by machines.', 'It contrasts with the natural intelligence displayed by humans and animals.', 'AI is used in various applications such as robotics, computer vision, and natural language processing.', 'The goal of AI is to create systems that can function intelligently and independently.', 'Machine learning is a subset of AI that enables computers to learn from data.']\n"
     ]
    }
   ],
   "source": [
    "# Sample training text (you can replace this with a larger dataset)\n",
    "sample_text = \"\"\"Artificial Intelligence (AI) is intelligence demonstrated by machines.\n",
    "It contrasts with the natural intelligence displayed by humans and animals.\n",
    "AI is used in various applications such as robotics, computer vision, and natural language processing.\n",
    "The goal of AI is to create systems that can function intelligently and independently.\n",
    "Machine learning is a subset of AI that enables computers to learn from data.\n",
    "\"\"\"\n",
    "\n",
    "# Tokenize text into sentences\n",
    "sentences = sent_tokenize(sample_text)\n",
    "print(\"Sentences:\", sentences)"
   ]
  },
  {
   "cell_type": "code",
   "execution_count": 5,
   "metadata": {},
   "outputs": [
    {
     "name": "stdout",
     "output_type": "stream",
     "text": [
      "Vectorizer saved to TASK1/saved_model/vectorizer.pkl\n"
     ]
    }
   ],
   "source": [
    "# Create TF-IDF vectorizer and fit on sentences\n",
    "vectorizer = TfidfVectorizer(stop_words='english')\n",
    "X = vectorizer.fit_transform(sentences)\n",
    "import os\n",
    "\n",
    "# Create the directory if it doesn't exist\n",
    "os.makedirs(\"saved_model\", exist_ok=True)\n",
    "\n",
    "# Save the trained vectorizer\n",
    "with open(\"saved_model/vectorizer.pkl\", \"wb\") as f:\n",
    "    pickle.dump(vectorizer, f)\n",
    "print(\"Vectorizer saved to TASK1/saved_model/vectorizer.pkl\")"
   ]
  },
  {
   "cell_type": "code",
   "execution_count": 7,
   "id": "09eb0d43",
   "metadata": {},
   "outputs": [
    {
     "name": "stdout",
     "output_type": "stream",
     "text": [
      "Vocabulary loaded from saved vectorizer:\n",
      "{'artificial': 3, 'intelligence': 16, 'ai': 0, 'demonstrated': 9, 'machines': 22, 'contrasts': 6, 'natural': 23, 'displayed': 10, 'humans': 14, 'animals': 1, 'used': 28, 'various': 29, 'applications': 2, 'robotics': 25, 'computer': 4, 'vision': 30, 'language': 18, 'processing': 24, 'goal': 13, 'create': 7, 'systems': 27, 'function': 12, 'intelligently': 17, 'independently': 15, 'machine': 21, 'learning': 20, 'subset': 26, 'enables': 11, 'computers': 5, 'learn': 19, 'data': 8}\n"
     ]
    }
   ],
   "source": [
    "import pickle\n",
    "\n",
    "with open(\"saved_model/vectorizer.pkl\", \"rb\") as f:\n",
    "    loaded_vectorizer = pickle.load(f)\n",
    "\n",
    "print(\"Vocabulary loaded from saved vectorizer:\")\n",
    "print(loaded_vectorizer.vocabulary_)\n"
   ]
  }
 ],
 "metadata": {
  "kernelspec": {
   "display_name": "base",
   "language": "python",
   "name": "python3"
  },
  "language_info": {
   "codemirror_mode": {
    "name": "ipython",
    "version": 3
   },
   "file_extension": ".py",
   "mimetype": "text/x-python",
   "name": "python",
   "nbconvert_exporter": "python",
   "pygments_lexer": "ipython3",
   "version": "3.12.7"
  }
 },
 "nbformat": 4,
 "nbformat_minor": 5
}
